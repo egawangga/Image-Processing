{
  "nbformat": 4,
  "nbformat_minor": 0,
  "metadata": {
    "colab": {
      "name": "PTM06_M0518020_Gian Mardhana Egawangga.ipynb",
      "provenance": [],
      "collapsed_sections": []
    },
    "kernelspec": {
      "name": "python3",
      "display_name": "Python 3"
    },
    "accelerator": "GPU"
  },
  "cells": [
    {
      "cell_type": "code",
      "metadata": {
        "id": "agWayLbmmcsH",
        "colab_type": "code",
        "colab": {
          "base_uri": "https://localhost:8080/",
          "height": 818
        },
        "outputId": "c8b92778-0781-46fb-c285-9dd3579361ff"
      },
      "source": [
        "!pip install keras tensorflow numpy mnist"
      ],
      "execution_count": 1,
      "outputs": [
        {
          "output_type": "stream",
          "text": [
            "Requirement already satisfied: keras in /usr/local/lib/python3.6/dist-packages (2.3.1)\n",
            "Requirement already satisfied: tensorflow in /usr/local/lib/python3.6/dist-packages (2.2.0)\n",
            "Requirement already satisfied: numpy in /usr/local/lib/python3.6/dist-packages (1.18.4)\n",
            "Collecting mnist\n",
            "  Downloading https://files.pythonhosted.org/packages/c6/c4/5db3bfe009f8d71f1d532bbadbd0ec203764bba3a469e4703a889db8e5e0/mnist-0.2.2-py2.py3-none-any.whl\n",
            "Requirement already satisfied: keras-applications>=1.0.6 in /usr/local/lib/python3.6/dist-packages (from keras) (1.0.8)\n",
            "Requirement already satisfied: six>=1.9.0 in /usr/local/lib/python3.6/dist-packages (from keras) (1.12.0)\n",
            "Requirement already satisfied: keras-preprocessing>=1.0.5 in /usr/local/lib/python3.6/dist-packages (from keras) (1.1.2)\n",
            "Requirement already satisfied: pyyaml in /usr/local/lib/python3.6/dist-packages (from keras) (3.13)\n",
            "Requirement already satisfied: h5py in /usr/local/lib/python3.6/dist-packages (from keras) (2.10.0)\n",
            "Requirement already satisfied: scipy>=0.14 in /usr/local/lib/python3.6/dist-packages (from keras) (1.4.1)\n",
            "Requirement already satisfied: google-pasta>=0.1.8 in /usr/local/lib/python3.6/dist-packages (from tensorflow) (0.2.0)\n",
            "Requirement already satisfied: protobuf>=3.8.0 in /usr/local/lib/python3.6/dist-packages (from tensorflow) (3.10.0)\n",
            "Requirement already satisfied: tensorflow-estimator<2.3.0,>=2.2.0 in /usr/local/lib/python3.6/dist-packages (from tensorflow) (2.2.0)\n",
            "Requirement already satisfied: grpcio>=1.8.6 in /usr/local/lib/python3.6/dist-packages (from tensorflow) (1.29.0)\n",
            "Requirement already satisfied: opt-einsum>=2.3.2 in /usr/local/lib/python3.6/dist-packages (from tensorflow) (3.2.1)\n",
            "Requirement already satisfied: termcolor>=1.1.0 in /usr/local/lib/python3.6/dist-packages (from tensorflow) (1.1.0)\n",
            "Requirement already satisfied: tensorboard<2.3.0,>=2.2.0 in /usr/local/lib/python3.6/dist-packages (from tensorflow) (2.2.1)\n",
            "Requirement already satisfied: gast==0.3.3 in /usr/local/lib/python3.6/dist-packages (from tensorflow) (0.3.3)\n",
            "Requirement already satisfied: wrapt>=1.11.1 in /usr/local/lib/python3.6/dist-packages (from tensorflow) (1.12.1)\n",
            "Requirement already satisfied: wheel>=0.26; python_version >= \"3\" in /usr/local/lib/python3.6/dist-packages (from tensorflow) (0.34.2)\n",
            "Requirement already satisfied: absl-py>=0.7.0 in /usr/local/lib/python3.6/dist-packages (from tensorflow) (0.9.0)\n",
            "Requirement already satisfied: astunparse==1.6.3 in /usr/local/lib/python3.6/dist-packages (from tensorflow) (1.6.3)\n",
            "Requirement already satisfied: setuptools in /usr/local/lib/python3.6/dist-packages (from protobuf>=3.8.0->tensorflow) (46.3.0)\n",
            "Requirement already satisfied: tensorboard-plugin-wit>=1.6.0 in /usr/local/lib/python3.6/dist-packages (from tensorboard<2.3.0,>=2.2.0->tensorflow) (1.6.0.post3)\n",
            "Requirement already satisfied: werkzeug>=0.11.15 in /usr/local/lib/python3.6/dist-packages (from tensorboard<2.3.0,>=2.2.0->tensorflow) (1.0.1)\n",
            "Requirement already satisfied: google-auth<2,>=1.6.3 in /usr/local/lib/python3.6/dist-packages (from tensorboard<2.3.0,>=2.2.0->tensorflow) (1.7.2)\n",
            "Requirement already satisfied: markdown>=2.6.8 in /usr/local/lib/python3.6/dist-packages (from tensorboard<2.3.0,>=2.2.0->tensorflow) (3.2.2)\n",
            "Requirement already satisfied: google-auth-oauthlib<0.5,>=0.4.1 in /usr/local/lib/python3.6/dist-packages (from tensorboard<2.3.0,>=2.2.0->tensorflow) (0.4.1)\n",
            "Requirement already satisfied: requests<3,>=2.21.0 in /usr/local/lib/python3.6/dist-packages (from tensorboard<2.3.0,>=2.2.0->tensorflow) (2.23.0)\n",
            "Requirement already satisfied: pyasn1-modules>=0.2.1 in /usr/local/lib/python3.6/dist-packages (from google-auth<2,>=1.6.3->tensorboard<2.3.0,>=2.2.0->tensorflow) (0.2.8)\n",
            "Requirement already satisfied: cachetools<3.2,>=2.0.0 in /usr/local/lib/python3.6/dist-packages (from google-auth<2,>=1.6.3->tensorboard<2.3.0,>=2.2.0->tensorflow) (3.1.1)\n",
            "Requirement already satisfied: rsa<4.1,>=3.1.4 in /usr/local/lib/python3.6/dist-packages (from google-auth<2,>=1.6.3->tensorboard<2.3.0,>=2.2.0->tensorflow) (4.0)\n",
            "Requirement already satisfied: importlib-metadata; python_version < \"3.8\" in /usr/local/lib/python3.6/dist-packages (from markdown>=2.6.8->tensorboard<2.3.0,>=2.2.0->tensorflow) (1.6.0)\n",
            "Requirement already satisfied: requests-oauthlib>=0.7.0 in /usr/local/lib/python3.6/dist-packages (from google-auth-oauthlib<0.5,>=0.4.1->tensorboard<2.3.0,>=2.2.0->tensorflow) (1.3.0)\n",
            "Requirement already satisfied: chardet<4,>=3.0.2 in /usr/local/lib/python3.6/dist-packages (from requests<3,>=2.21.0->tensorboard<2.3.0,>=2.2.0->tensorflow) (3.0.4)\n",
            "Requirement already satisfied: urllib3!=1.25.0,!=1.25.1,<1.26,>=1.21.1 in /usr/local/lib/python3.6/dist-packages (from requests<3,>=2.21.0->tensorboard<2.3.0,>=2.2.0->tensorflow) (1.24.3)\n",
            "Requirement already satisfied: certifi>=2017.4.17 in /usr/local/lib/python3.6/dist-packages (from requests<3,>=2.21.0->tensorboard<2.3.0,>=2.2.0->tensorflow) (2020.4.5.1)\n",
            "Requirement already satisfied: idna<3,>=2.5 in /usr/local/lib/python3.6/dist-packages (from requests<3,>=2.21.0->tensorboard<2.3.0,>=2.2.0->tensorflow) (2.9)\n",
            "Requirement already satisfied: pyasn1<0.5.0,>=0.4.6 in /usr/local/lib/python3.6/dist-packages (from pyasn1-modules>=0.2.1->google-auth<2,>=1.6.3->tensorboard<2.3.0,>=2.2.0->tensorflow) (0.4.8)\n",
            "Requirement already satisfied: zipp>=0.5 in /usr/local/lib/python3.6/dist-packages (from importlib-metadata; python_version < \"3.8\"->markdown>=2.6.8->tensorboard<2.3.0,>=2.2.0->tensorflow) (3.1.0)\n",
            "Requirement already satisfied: oauthlib>=3.0.0 in /usr/local/lib/python3.6/dist-packages (from requests-oauthlib>=0.7.0->google-auth-oauthlib<0.5,>=0.4.1->tensorboard<2.3.0,>=2.2.0->tensorflow) (3.1.0)\n",
            "Installing collected packages: mnist\n",
            "Successfully installed mnist-0.2.2\n"
          ],
          "name": "stdout"
        }
      ]
    },
    {
      "cell_type": "code",
      "metadata": {
        "id": "0KiHRxAGLIwo",
        "colab_type": "code",
        "colab": {
          "base_uri": "https://localhost:8080/",
          "height": 34
        },
        "outputId": "ce7a22ba-4c39-4747-dd77-25fcc245df41"
      },
      "source": [
        "import numpy as np\n",
        "import mnist\n",
        "from keras.models import Sequential\n",
        "from keras.layers import Dense\n",
        "from keras.utils import to_categorical"
      ],
      "execution_count": 2,
      "outputs": [
        {
          "output_type": "stream",
          "text": [
            "Using TensorFlow backend.\n"
          ],
          "name": "stderr"
        }
      ]
    },
    {
      "cell_type": "code",
      "metadata": {
        "id": "SUokkm0VLKvw",
        "colab_type": "code",
        "colab": {}
      },
      "source": [
        "train_images = mnist.train_images()\n",
        "train_labels = mnist.train_labels()\n",
        "test_images = mnist.test_images()\n",
        "test_labels = mnist.test_labels()"
      ],
      "execution_count": 0,
      "outputs": []
    },
    {
      "cell_type": "code",
      "metadata": {
        "id": "sv7UXZ-3LNi8",
        "colab_type": "code",
        "colab": {}
      },
      "source": [
        "train_images = (train_images / 255) - 0.5\n",
        "test_images = (test_images / 255) - 0.5\n",
        "\n",
        "train_images = train_images.reshape((-1, 784))\n",
        "test_images = test_images.reshape((-1, 784))"
      ],
      "execution_count": 0,
      "outputs": []
    },
    {
      "cell_type": "code",
      "metadata": {
        "id": "ZjiahttWLSBt",
        "colab_type": "code",
        "colab": {}
      },
      "source": [
        "model = Sequential([\n",
        "    Dense(64, activation='sigmoid', input_shape=(784,)),\n",
        "    Dense(64, activation='sigmoid'),\n",
        "    Dense(10, activation='softmax'),\n",
        "])"
      ],
      "execution_count": 0,
      "outputs": []
    },
    {
      "cell_type": "code",
      "metadata": {
        "id": "oWq5hOQoLWEd",
        "colab_type": "code",
        "colab": {}
      },
      "source": [
        "model.compile(\n",
        "  optimizer='adam',\n",
        "  loss='categorical_crossentropy',\n",
        "  metrics=['accuracy'],\n",
        ")"
      ],
      "execution_count": 0,
      "outputs": []
    },
    {
      "cell_type": "code",
      "metadata": {
        "id": "4fGQxDasLaB6",
        "colab_type": "code",
        "colab": {
          "base_uri": "https://localhost:8080/",
          "height": 1000
        },
        "outputId": "7bc4de66-d329-4a2d-bbba-a15df1b0d7c9"
      },
      "source": [
        "model.fit(\n",
        "    train_images,\n",
        "    to_categorical(train_labels),\n",
        "    epochs = 50,\n",
        "    batch_size = 32,\n",
        ")"
      ],
      "execution_count": 7,
      "outputs": [
        {
          "output_type": "stream",
          "text": [
            "Epoch 1/50\n",
            "60000/60000 [==============================] - 7s 113us/step - loss: 0.5712 - accuracy: 0.8547\n",
            "Epoch 2/50\n",
            "60000/60000 [==============================] - 5s 90us/step - loss: 0.2275 - accuracy: 0.9331\n",
            "Epoch 3/50\n",
            "60000/60000 [==============================] - 6s 94us/step - loss: 0.1690 - accuracy: 0.9500\n",
            "Epoch 4/50\n",
            "60000/60000 [==============================] - 5s 91us/step - loss: 0.1364 - accuracy: 0.9589\n",
            "Epoch 5/50\n",
            "60000/60000 [==============================] - 5s 85us/step - loss: 0.1167 - accuracy: 0.9656\n",
            "Epoch 6/50\n",
            "60000/60000 [==============================] - 5s 86us/step - loss: 0.1004 - accuracy: 0.9695\n",
            "Epoch 7/50\n",
            "60000/60000 [==============================] - 6s 92us/step - loss: 0.0900 - accuracy: 0.9731\n",
            "Epoch 8/50\n",
            "60000/60000 [==============================] - 6s 93us/step - loss: 0.0803 - accuracy: 0.9760\n",
            "Epoch 9/50\n",
            "60000/60000 [==============================] - 5s 90us/step - loss: 0.0721 - accuracy: 0.9782\n",
            "Epoch 10/50\n",
            "60000/60000 [==============================] - 6s 97us/step - loss: 0.0666 - accuracy: 0.9796\n",
            "Epoch 11/50\n",
            "60000/60000 [==============================] - 6s 94us/step - loss: 0.0609 - accuracy: 0.9815\n",
            "Epoch 12/50\n",
            "60000/60000 [==============================] - 6s 98us/step - loss: 0.0558 - accuracy: 0.9830\n",
            "Epoch 13/50\n",
            "60000/60000 [==============================] - 6s 93us/step - loss: 0.0514 - accuracy: 0.9845\n",
            "Epoch 14/50\n",
            "60000/60000 [==============================] - 6s 92us/step - loss: 0.0474 - accuracy: 0.9858\n",
            "Epoch 15/50\n",
            "60000/60000 [==============================] - 5s 86us/step - loss: 0.0448 - accuracy: 0.9860\n",
            "Epoch 16/50\n",
            "60000/60000 [==============================] - 5s 87us/step - loss: 0.0431 - accuracy: 0.9866\n",
            "Epoch 17/50\n",
            "60000/60000 [==============================] - 5s 85us/step - loss: 0.0396 - accuracy: 0.9879\n",
            "Epoch 18/50\n",
            "60000/60000 [==============================] - 5s 91us/step - loss: 0.0371 - accuracy: 0.9884\n",
            "Epoch 19/50\n",
            "60000/60000 [==============================] - 5s 87us/step - loss: 0.0344 - accuracy: 0.9890\n",
            "Epoch 20/50\n",
            "60000/60000 [==============================] - 5s 92us/step - loss: 0.0341 - accuracy: 0.9892\n",
            "Epoch 21/50\n",
            "60000/60000 [==============================] - 5s 92us/step - loss: 0.0321 - accuracy: 0.9897\n",
            "Epoch 22/50\n",
            "60000/60000 [==============================] - 6s 93us/step - loss: 0.0289 - accuracy: 0.9912\n",
            "Epoch 23/50\n",
            "60000/60000 [==============================] - 5s 89us/step - loss: 0.0275 - accuracy: 0.9910\n",
            "Epoch 24/50\n",
            "60000/60000 [==============================] - 5s 91us/step - loss: 0.0275 - accuracy: 0.9913\n",
            "Epoch 25/50\n",
            "60000/60000 [==============================] - 5s 89us/step - loss: 0.0243 - accuracy: 0.9924\n",
            "Epoch 26/50\n",
            "60000/60000 [==============================] - 5s 91us/step - loss: 0.0243 - accuracy: 0.9925\n",
            "Epoch 27/50\n",
            "60000/60000 [==============================] - 6s 94us/step - loss: 0.0232 - accuracy: 0.9924\n",
            "Epoch 28/50\n",
            "60000/60000 [==============================] - 5s 91us/step - loss: 0.0237 - accuracy: 0.9925\n",
            "Epoch 29/50\n",
            "60000/60000 [==============================] - 5s 91us/step - loss: 0.0212 - accuracy: 0.9933\n",
            "Epoch 30/50\n",
            "60000/60000 [==============================] - 6s 94us/step - loss: 0.0221 - accuracy: 0.9930\n",
            "Epoch 31/50\n",
            "60000/60000 [==============================] - 5s 85us/step - loss: 0.0198 - accuracy: 0.9936\n",
            "Epoch 32/50\n",
            "60000/60000 [==============================] - 6s 94us/step - loss: 0.0178 - accuracy: 0.9946\n",
            "Epoch 33/50\n",
            "60000/60000 [==============================] - 5s 84us/step - loss: 0.0190 - accuracy: 0.9939\n",
            "Epoch 34/50\n",
            "60000/60000 [==============================] - 6s 92us/step - loss: 0.0175 - accuracy: 0.9947\n",
            "Epoch 35/50\n",
            "60000/60000 [==============================] - 5s 91us/step - loss: 0.0159 - accuracy: 0.9951\n",
            "Epoch 36/50\n",
            "60000/60000 [==============================] - 5s 91us/step - loss: 0.0164 - accuracy: 0.9950\n",
            "Epoch 37/50\n",
            "60000/60000 [==============================] - 5s 88us/step - loss: 0.0156 - accuracy: 0.9948\n",
            "Epoch 38/50\n",
            "60000/60000 [==============================] - 6s 93us/step - loss: 0.0163 - accuracy: 0.9949\n",
            "Epoch 39/50\n",
            "60000/60000 [==============================] - 5s 91us/step - loss: 0.0136 - accuracy: 0.9958\n",
            "Epoch 40/50\n",
            "60000/60000 [==============================] - 5s 86us/step - loss: 0.0137 - accuracy: 0.9955\n",
            "Epoch 41/50\n",
            "60000/60000 [==============================] - 5s 88us/step - loss: 0.0142 - accuracy: 0.9954\n",
            "Epoch 42/50\n",
            "60000/60000 [==============================] - 5s 88us/step - loss: 0.0133 - accuracy: 0.9959\n",
            "Epoch 43/50\n",
            "60000/60000 [==============================] - 5s 90us/step - loss: 0.0138 - accuracy: 0.9957\n",
            "Epoch 44/50\n",
            "60000/60000 [==============================] - 5s 89us/step - loss: 0.0117 - accuracy: 0.9963\n",
            "Epoch 45/50\n",
            "60000/60000 [==============================] - 5s 85us/step - loss: 0.0131 - accuracy: 0.9955\n",
            "Epoch 46/50\n",
            "60000/60000 [==============================] - 6s 93us/step - loss: 0.0132 - accuracy: 0.9956\n",
            "Epoch 47/50\n",
            "60000/60000 [==============================] - 5s 90us/step - loss: 0.0109 - accuracy: 0.9969\n",
            "Epoch 48/50\n",
            "60000/60000 [==============================] - 5s 88us/step - loss: 0.0120 - accuracy: 0.9958\n",
            "Epoch 49/50\n",
            "60000/60000 [==============================] - 5s 89us/step - loss: 0.0118 - accuracy: 0.9962\n",
            "Epoch 50/50\n",
            "60000/60000 [==============================] - 5s 84us/step - loss: 0.0112 - accuracy: 0.9963\n"
          ],
          "name": "stdout"
        },
        {
          "output_type": "execute_result",
          "data": {
            "text/plain": [
              "<keras.callbacks.callbacks.History at 0x7fcaa3c95780>"
            ]
          },
          "metadata": {
            "tags": []
          },
          "execution_count": 7
        }
      ]
    }
  ]
}