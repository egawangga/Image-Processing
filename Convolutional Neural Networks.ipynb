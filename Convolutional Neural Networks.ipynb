{
  "nbformat": 4,
  "nbformat_minor": 0,
  "metadata": {
    "colab": {
      "name": "PTM07_M0518020_Gian Mardhana Egawangga.ipynb",
      "provenance": [],
      "collapsed_sections": []
    },
    "kernelspec": {
      "name": "python3",
      "display_name": "Python 3"
    },
    "accelerator": "GPU"
  },
  "cells": [
    {
      "cell_type": "code",
      "metadata": {
        "id": "MHHkq0L3Nj8j",
        "colab_type": "code",
        "colab": {
          "base_uri": "https://localhost:8080/",
          "height": 765
        },
        "outputId": "5148074f-3ae9-47a7-a784-f1b4d6ce0215"
      },
      "source": [
        "!pip install keras tensorflow numpy mnist"
      ],
      "execution_count": 21,
      "outputs": [
        {
          "output_type": "stream",
          "text": [
            "Requirement already satisfied: keras in /usr/local/lib/python3.6/dist-packages (2.3.1)\n",
            "Requirement already satisfied: tensorflow in /usr/local/lib/python3.6/dist-packages (2.2.0)\n",
            "Requirement already satisfied: numpy in /usr/local/lib/python3.6/dist-packages (1.18.4)\n",
            "Requirement already satisfied: mnist in /usr/local/lib/python3.6/dist-packages (0.2.2)\n",
            "Requirement already satisfied: keras-applications>=1.0.6 in /usr/local/lib/python3.6/dist-packages (from keras) (1.0.8)\n",
            "Requirement already satisfied: six>=1.9.0 in /usr/local/lib/python3.6/dist-packages (from keras) (1.12.0)\n",
            "Requirement already satisfied: keras-preprocessing>=1.0.5 in /usr/local/lib/python3.6/dist-packages (from keras) (1.1.2)\n",
            "Requirement already satisfied: scipy>=0.14 in /usr/local/lib/python3.6/dist-packages (from keras) (1.4.1)\n",
            "Requirement already satisfied: h5py in /usr/local/lib/python3.6/dist-packages (from keras) (2.10.0)\n",
            "Requirement already satisfied: pyyaml in /usr/local/lib/python3.6/dist-packages (from keras) (3.13)\n",
            "Requirement already satisfied: google-pasta>=0.1.8 in /usr/local/lib/python3.6/dist-packages (from tensorflow) (0.2.0)\n",
            "Requirement already satisfied: opt-einsum>=2.3.2 in /usr/local/lib/python3.6/dist-packages (from tensorflow) (3.2.1)\n",
            "Requirement already satisfied: tensorboard<2.3.0,>=2.2.0 in /usr/local/lib/python3.6/dist-packages (from tensorflow) (2.2.1)\n",
            "Requirement already satisfied: tensorflow-estimator<2.3.0,>=2.2.0 in /usr/local/lib/python3.6/dist-packages (from tensorflow) (2.2.0)\n",
            "Requirement already satisfied: protobuf>=3.8.0 in /usr/local/lib/python3.6/dist-packages (from tensorflow) (3.10.0)\n",
            "Requirement already satisfied: gast==0.3.3 in /usr/local/lib/python3.6/dist-packages (from tensorflow) (0.3.3)\n",
            "Requirement already satisfied: wrapt>=1.11.1 in /usr/local/lib/python3.6/dist-packages (from tensorflow) (1.12.1)\n",
            "Requirement already satisfied: wheel>=0.26; python_version >= \"3\" in /usr/local/lib/python3.6/dist-packages (from tensorflow) (0.34.2)\n",
            "Requirement already satisfied: astunparse==1.6.3 in /usr/local/lib/python3.6/dist-packages (from tensorflow) (1.6.3)\n",
            "Requirement already satisfied: absl-py>=0.7.0 in /usr/local/lib/python3.6/dist-packages (from tensorflow) (0.9.0)\n",
            "Requirement already satisfied: grpcio>=1.8.6 in /usr/local/lib/python3.6/dist-packages (from tensorflow) (1.29.0)\n",
            "Requirement already satisfied: termcolor>=1.1.0 in /usr/local/lib/python3.6/dist-packages (from tensorflow) (1.1.0)\n",
            "Requirement already satisfied: requests<3,>=2.21.0 in /usr/local/lib/python3.6/dist-packages (from tensorboard<2.3.0,>=2.2.0->tensorflow) (2.23.0)\n",
            "Requirement already satisfied: markdown>=2.6.8 in /usr/local/lib/python3.6/dist-packages (from tensorboard<2.3.0,>=2.2.0->tensorflow) (3.2.2)\n",
            "Requirement already satisfied: google-auth<2,>=1.6.3 in /usr/local/lib/python3.6/dist-packages (from tensorboard<2.3.0,>=2.2.0->tensorflow) (1.7.2)\n",
            "Requirement already satisfied: werkzeug>=0.11.15 in /usr/local/lib/python3.6/dist-packages (from tensorboard<2.3.0,>=2.2.0->tensorflow) (1.0.1)\n",
            "Requirement already satisfied: tensorboard-plugin-wit>=1.6.0 in /usr/local/lib/python3.6/dist-packages (from tensorboard<2.3.0,>=2.2.0->tensorflow) (1.6.0.post3)\n",
            "Requirement already satisfied: setuptools>=41.0.0 in /usr/local/lib/python3.6/dist-packages (from tensorboard<2.3.0,>=2.2.0->tensorflow) (46.3.0)\n",
            "Requirement already satisfied: google-auth-oauthlib<0.5,>=0.4.1 in /usr/local/lib/python3.6/dist-packages (from tensorboard<2.3.0,>=2.2.0->tensorflow) (0.4.1)\n",
            "Requirement already satisfied: urllib3!=1.25.0,!=1.25.1,<1.26,>=1.21.1 in /usr/local/lib/python3.6/dist-packages (from requests<3,>=2.21.0->tensorboard<2.3.0,>=2.2.0->tensorflow) (1.24.3)\n",
            "Requirement already satisfied: certifi>=2017.4.17 in /usr/local/lib/python3.6/dist-packages (from requests<3,>=2.21.0->tensorboard<2.3.0,>=2.2.0->tensorflow) (2020.4.5.1)\n",
            "Requirement already satisfied: chardet<4,>=3.0.2 in /usr/local/lib/python3.6/dist-packages (from requests<3,>=2.21.0->tensorboard<2.3.0,>=2.2.0->tensorflow) (3.0.4)\n",
            "Requirement already satisfied: idna<3,>=2.5 in /usr/local/lib/python3.6/dist-packages (from requests<3,>=2.21.0->tensorboard<2.3.0,>=2.2.0->tensorflow) (2.9)\n",
            "Requirement already satisfied: importlib-metadata; python_version < \"3.8\" in /usr/local/lib/python3.6/dist-packages (from markdown>=2.6.8->tensorboard<2.3.0,>=2.2.0->tensorflow) (1.6.0)\n",
            "Requirement already satisfied: rsa<4.1,>=3.1.4 in /usr/local/lib/python3.6/dist-packages (from google-auth<2,>=1.6.3->tensorboard<2.3.0,>=2.2.0->tensorflow) (4.0)\n",
            "Requirement already satisfied: cachetools<3.2,>=2.0.0 in /usr/local/lib/python3.6/dist-packages (from google-auth<2,>=1.6.3->tensorboard<2.3.0,>=2.2.0->tensorflow) (3.1.1)\n",
            "Requirement already satisfied: pyasn1-modules>=0.2.1 in /usr/local/lib/python3.6/dist-packages (from google-auth<2,>=1.6.3->tensorboard<2.3.0,>=2.2.0->tensorflow) (0.2.8)\n",
            "Requirement already satisfied: requests-oauthlib>=0.7.0 in /usr/local/lib/python3.6/dist-packages (from google-auth-oauthlib<0.5,>=0.4.1->tensorboard<2.3.0,>=2.2.0->tensorflow) (1.3.0)\n",
            "Requirement already satisfied: zipp>=0.5 in /usr/local/lib/python3.6/dist-packages (from importlib-metadata; python_version < \"3.8\"->markdown>=2.6.8->tensorboard<2.3.0,>=2.2.0->tensorflow) (3.1.0)\n",
            "Requirement already satisfied: pyasn1>=0.1.3 in /usr/local/lib/python3.6/dist-packages (from rsa<4.1,>=3.1.4->google-auth<2,>=1.6.3->tensorboard<2.3.0,>=2.2.0->tensorflow) (0.4.8)\n",
            "Requirement already satisfied: oauthlib>=3.0.0 in /usr/local/lib/python3.6/dist-packages (from requests-oauthlib>=0.7.0->google-auth-oauthlib<0.5,>=0.4.1->tensorboard<2.3.0,>=2.2.0->tensorflow) (3.1.0)\n"
          ],
          "name": "stdout"
        }
      ]
    },
    {
      "cell_type": "code",
      "metadata": {
        "id": "-GfZSoodPrCP",
        "colab_type": "code",
        "colab": {}
      },
      "source": [
        "import numpy as np\n",
        "import mnist\n",
        "from keras.models import Sequential\n",
        "from keras.layers import Conv2D, MaxPooling2D, Dense, Flatten\n",
        "from keras.utils import to_categorical"
      ],
      "execution_count": 0,
      "outputs": []
    },
    {
      "cell_type": "code",
      "metadata": {
        "id": "T3w90ghGP65c",
        "colab_type": "code",
        "colab": {}
      },
      "source": [
        "train_images = mnist.train_images()\n",
        "train_labels = mnist.train_labels()\n",
        "test_images = mnist.test_images()\n",
        "test_labels = mnist.test_labels()"
      ],
      "execution_count": 0,
      "outputs": []
    },
    {
      "cell_type": "code",
      "metadata": {
        "id": "Rjv5i90MUlci",
        "colab_type": "code",
        "colab": {
          "base_uri": "https://localhost:8080/",
          "height": 52
        },
        "outputId": "03d59492-2876-4514-ae03-12eadb703266"
      },
      "source": [
        "train_images = (train_images / 255) - 0.5\n",
        "test_images = (test_images / 255) - 0.5\n",
        "\n",
        "train_images = np.expand_dims(train_images, axis=3)\n",
        "test_images = np.expand_dims(test_images, axis=3)\n",
        "\n",
        "print(train_images.shape)\n",
        "print(test_images.shape)"
      ],
      "execution_count": 24,
      "outputs": [
        {
          "output_type": "stream",
          "text": [
            "(60000, 28, 28, 1)\n",
            "(10000, 28, 28, 1)\n"
          ],
          "name": "stdout"
        }
      ]
    },
    {
      "cell_type": "code",
      "metadata": {
        "id": "ylz5ojFYQXHz",
        "colab_type": "code",
        "colab": {}
      },
      "source": [
        "num_filters = 8\n",
        "filter_size = 3\n",
        "pool_size = 2\n",
        "\n",
        "model = Sequential([\n",
        "  Conv2D(num_filters, filter_size, input_shape=(28, 28, 1)),\n",
        "  MaxPooling2D(pool_size=pool_size),\n",
        "  Flatten(),\n",
        "  Dense(10, activation='softmax'),\n",
        "])"
      ],
      "execution_count": 0,
      "outputs": []
    },
    {
      "cell_type": "code",
      "metadata": {
        "id": "LrSSLQA4QaCI",
        "colab_type": "code",
        "colab": {}
      },
      "source": [
        "model.compile(\n",
        "  'adam',\n",
        "  loss='categorical_crossentropy',\n",
        "  metrics=['accuracy'],\n",
        ")"
      ],
      "execution_count": 0,
      "outputs": []
    },
    {
      "cell_type": "code",
      "metadata": {
        "id": "r4SlyIrJTvpc",
        "colab_type": "code",
        "colab": {
          "base_uri": "https://localhost:8080/",
          "height": 1000
        },
        "outputId": "fbb218f8-4af0-4a7a-c6b1-afa39702ad07"
      },
      "source": [
        "model.fit(\n",
        "  train_images,\n",
        "  to_categorical(train_labels),\n",
        "  epochs=50,\n",
        "  validation_data=(test_images, to_categorical(test_labels)),\n",
        ")"
      ],
      "execution_count": 32,
      "outputs": [
        {
          "output_type": "stream",
          "text": [
            "Train on 60000 samples, validate on 10000 samples\n",
            "Epoch 1/50\n",
            "60000/60000 [==============================] - 7s 109us/step - loss: 0.0297 - accuracy: 0.9901 - val_loss: 0.0991 - val_accuracy: 0.9726\n",
            "Epoch 2/50\n",
            "60000/60000 [==============================] - 7s 108us/step - loss: 0.0287 - accuracy: 0.9906 - val_loss: 0.0910 - val_accuracy: 0.9751\n",
            "Epoch 3/50\n",
            "60000/60000 [==============================] - 6s 105us/step - loss: 0.0280 - accuracy: 0.9908 - val_loss: 0.0924 - val_accuracy: 0.9746\n",
            "Epoch 4/50\n",
            "60000/60000 [==============================] - 6s 104us/step - loss: 0.0269 - accuracy: 0.9916 - val_loss: 0.0928 - val_accuracy: 0.9743\n",
            "Epoch 5/50\n",
            "60000/60000 [==============================] - 6s 106us/step - loss: 0.0262 - accuracy: 0.9916 - val_loss: 0.0972 - val_accuracy: 0.9730\n",
            "Epoch 6/50\n",
            "60000/60000 [==============================] - 6s 107us/step - loss: 0.0246 - accuracy: 0.9921 - val_loss: 0.0995 - val_accuracy: 0.9746\n",
            "Epoch 7/50\n",
            "60000/60000 [==============================] - 6s 106us/step - loss: 0.0244 - accuracy: 0.9919 - val_loss: 0.1043 - val_accuracy: 0.9723\n",
            "Epoch 8/50\n",
            "60000/60000 [==============================] - 6s 105us/step - loss: 0.0233 - accuracy: 0.9924 - val_loss: 0.1038 - val_accuracy: 0.9733\n",
            "Epoch 9/50\n",
            "60000/60000 [==============================] - 6s 106us/step - loss: 0.0224 - accuracy: 0.9927 - val_loss: 0.1043 - val_accuracy: 0.9740\n",
            "Epoch 10/50\n",
            "60000/60000 [==============================] - 6s 107us/step - loss: 0.0224 - accuracy: 0.9931 - val_loss: 0.1061 - val_accuracy: 0.9733\n",
            "Epoch 11/50\n",
            "60000/60000 [==============================] - 6s 108us/step - loss: 0.0216 - accuracy: 0.9930 - val_loss: 0.1103 - val_accuracy: 0.9736\n",
            "Epoch 12/50\n",
            "60000/60000 [==============================] - 7s 109us/step - loss: 0.0209 - accuracy: 0.9933 - val_loss: 0.1153 - val_accuracy: 0.9706\n",
            "Epoch 13/50\n",
            "60000/60000 [==============================] - 6s 106us/step - loss: 0.0200 - accuracy: 0.9936 - val_loss: 0.1104 - val_accuracy: 0.9737\n",
            "Epoch 14/50\n",
            "60000/60000 [==============================] - 6s 107us/step - loss: 0.0194 - accuracy: 0.9937 - val_loss: 0.1158 - val_accuracy: 0.9728\n",
            "Epoch 15/50\n",
            "60000/60000 [==============================] - 6s 106us/step - loss: 0.0182 - accuracy: 0.9938 - val_loss: 0.1139 - val_accuracy: 0.9733\n",
            "Epoch 16/50\n",
            "60000/60000 [==============================] - 6s 108us/step - loss: 0.0184 - accuracy: 0.9941 - val_loss: 0.1141 - val_accuracy: 0.9724\n",
            "Epoch 17/50\n",
            "60000/60000 [==============================] - 6s 107us/step - loss: 0.0181 - accuracy: 0.9939 - val_loss: 0.1164 - val_accuracy: 0.9728\n",
            "Epoch 18/50\n",
            "60000/60000 [==============================] - 6s 108us/step - loss: 0.0171 - accuracy: 0.9943 - val_loss: 0.1190 - val_accuracy: 0.9729\n",
            "Epoch 19/50\n",
            "60000/60000 [==============================] - 6s 108us/step - loss: 0.0167 - accuracy: 0.9945 - val_loss: 0.1217 - val_accuracy: 0.9727\n",
            "Epoch 20/50\n",
            "60000/60000 [==============================] - 7s 109us/step - loss: 0.0162 - accuracy: 0.9945 - val_loss: 0.1183 - val_accuracy: 0.9741\n",
            "Epoch 21/50\n",
            "60000/60000 [==============================] - 7s 109us/step - loss: 0.0154 - accuracy: 0.9952 - val_loss: 0.1238 - val_accuracy: 0.9733\n",
            "Epoch 22/50\n",
            "60000/60000 [==============================] - 6s 107us/step - loss: 0.0156 - accuracy: 0.9949 - val_loss: 0.1241 - val_accuracy: 0.9737\n",
            "Epoch 23/50\n",
            "60000/60000 [==============================] - 6s 108us/step - loss: 0.0148 - accuracy: 0.9951 - val_loss: 0.1234 - val_accuracy: 0.9720\n",
            "Epoch 24/50\n",
            "60000/60000 [==============================] - 6s 107us/step - loss: 0.0144 - accuracy: 0.9954 - val_loss: 0.1293 - val_accuracy: 0.9719\n",
            "Epoch 25/50\n",
            "60000/60000 [==============================] - 6s 107us/step - loss: 0.0133 - accuracy: 0.9957 - val_loss: 0.1303 - val_accuracy: 0.9720\n",
            "Epoch 26/50\n",
            "60000/60000 [==============================] - 7s 108us/step - loss: 0.0138 - accuracy: 0.9953 - val_loss: 0.1274 - val_accuracy: 0.9720\n",
            "Epoch 27/50\n",
            "60000/60000 [==============================] - 7s 109us/step - loss: 0.0131 - accuracy: 0.9957 - val_loss: 0.1296 - val_accuracy: 0.9718\n",
            "Epoch 28/50\n",
            "60000/60000 [==============================] - 6s 107us/step - loss: 0.0123 - accuracy: 0.9961 - val_loss: 0.1324 - val_accuracy: 0.9730\n",
            "Epoch 29/50\n",
            "60000/60000 [==============================] - 7s 109us/step - loss: 0.0122 - accuracy: 0.9961 - val_loss: 0.1365 - val_accuracy: 0.9733\n",
            "Epoch 30/50\n",
            "60000/60000 [==============================] - 7s 111us/step - loss: 0.0119 - accuracy: 0.9964 - val_loss: 0.1420 - val_accuracy: 0.9720\n",
            "Epoch 31/50\n",
            "60000/60000 [==============================] - 6s 106us/step - loss: 0.0121 - accuracy: 0.9959 - val_loss: 0.1534 - val_accuracy: 0.9689\n",
            "Epoch 32/50\n",
            "60000/60000 [==============================] - 6s 105us/step - loss: 0.0117 - accuracy: 0.9961 - val_loss: 0.1358 - val_accuracy: 0.9736\n",
            "Epoch 33/50\n",
            "60000/60000 [==============================] - 6s 107us/step - loss: 0.0104 - accuracy: 0.9966 - val_loss: 0.1401 - val_accuracy: 0.9726\n",
            "Epoch 34/50\n",
            "60000/60000 [==============================] - 6s 108us/step - loss: 0.0109 - accuracy: 0.9965 - val_loss: 0.1490 - val_accuracy: 0.9717\n",
            "Epoch 35/50\n",
            "60000/60000 [==============================] - 6s 107us/step - loss: 0.0102 - accuracy: 0.9966 - val_loss: 0.1459 - val_accuracy: 0.9721\n",
            "Epoch 36/50\n",
            "60000/60000 [==============================] - 6s 108us/step - loss: 0.0101 - accuracy: 0.9966 - val_loss: 0.1458 - val_accuracy: 0.9715\n",
            "Epoch 37/50\n",
            "60000/60000 [==============================] - 6s 108us/step - loss: 0.0096 - accuracy: 0.9969 - val_loss: 0.1459 - val_accuracy: 0.9733\n",
            "Epoch 38/50\n",
            "60000/60000 [==============================] - 6s 108us/step - loss: 0.0098 - accuracy: 0.9969 - val_loss: 0.1523 - val_accuracy: 0.9719\n",
            "Epoch 39/50\n",
            "60000/60000 [==============================] - 7s 109us/step - loss: 0.0091 - accuracy: 0.9972 - val_loss: 0.1537 - val_accuracy: 0.9718\n",
            "Epoch 40/50\n",
            "60000/60000 [==============================] - 6s 107us/step - loss: 0.0094 - accuracy: 0.9969 - val_loss: 0.1529 - val_accuracy: 0.9718\n",
            "Epoch 41/50\n",
            "60000/60000 [==============================] - 6s 105us/step - loss: 0.0087 - accuracy: 0.9972 - val_loss: 0.1557 - val_accuracy: 0.9707\n",
            "Epoch 42/50\n",
            "60000/60000 [==============================] - 6s 105us/step - loss: 0.0092 - accuracy: 0.9971 - val_loss: 0.1607 - val_accuracy: 0.9714\n",
            "Epoch 43/50\n",
            "60000/60000 [==============================] - 6s 105us/step - loss: 0.0086 - accuracy: 0.9971 - val_loss: 0.1635 - val_accuracy: 0.9713\n",
            "Epoch 44/50\n",
            "60000/60000 [==============================] - 6s 105us/step - loss: 0.0085 - accuracy: 0.9973 - val_loss: 0.1616 - val_accuracy: 0.9712\n",
            "Epoch 45/50\n",
            "60000/60000 [==============================] - 6s 105us/step - loss: 0.0081 - accuracy: 0.9974 - val_loss: 0.1740 - val_accuracy: 0.9698\n",
            "Epoch 46/50\n",
            "60000/60000 [==============================] - 7s 111us/step - loss: 0.0077 - accuracy: 0.9977 - val_loss: 0.1747 - val_accuracy: 0.9689\n",
            "Epoch 47/50\n",
            "60000/60000 [==============================] - 7s 113us/step - loss: 0.0072 - accuracy: 0.9978 - val_loss: 0.1631 - val_accuracy: 0.9716\n",
            "Epoch 48/50\n",
            "60000/60000 [==============================] - 6s 106us/step - loss: 0.0073 - accuracy: 0.9977 - val_loss: 0.1690 - val_accuracy: 0.9720\n",
            "Epoch 49/50\n",
            "60000/60000 [==============================] - 6s 106us/step - loss: 0.0078 - accuracy: 0.9976 - val_loss: 0.1717 - val_accuracy: 0.9704\n",
            "Epoch 50/50\n",
            "60000/60000 [==============================] - 6s 106us/step - loss: 0.0069 - accuracy: 0.9977 - val_loss: 0.1715 - val_accuracy: 0.9727\n"
          ],
          "name": "stdout"
        },
        {
          "output_type": "execute_result",
          "data": {
            "text/plain": [
              "<keras.callbacks.callbacks.History at 0x7f6f31ed8860>"
            ]
          },
          "metadata": {
            "tags": []
          },
          "execution_count": 32
        }
      ]
    }
  ]
}