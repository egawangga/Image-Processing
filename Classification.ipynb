{
  "nbformat": 4,
  "nbformat_minor": 0,
  "metadata": {
    "colab": {
      "name": "PTM04_M0518020_Gian Mardhana Egawangga.ipynb",
      "provenance": []
    },
    "kernelspec": {
      "name": "python3",
      "display_name": "Python 3"
    },
    "accelerator": "GPU"
  },
  "cells": [
    {
      "cell_type": "code",
      "metadata": {
        "id": "zxUPfBw1Wm5X",
        "colab_type": "code",
        "colab": {
          "base_uri": "https://localhost:8080/",
          "height": 34
        },
        "outputId": "a17d0252-e1d7-44be-8da8-b746ab8fe723"
      },
      "source": [
        "from google.colab import drive\n",
        "drive.mount('/content/drive', force_remount=True)\n",
        "\n",
        "import numpy as np\n",
        "import pandas as pd\n",
        "import matplotlib.pyplot as plt\n",
        "\n",
        "from sklearn.linear_model import LogisticRegression\n",
        "from sklearn import metrics, svm"
      ],
      "execution_count": 43,
      "outputs": [
        {
          "output_type": "stream",
          "text": [
            "Mounted at /content/drive\n"
          ],
          "name": "stdout"
        }
      ]
    },
    {
      "cell_type": "code",
      "metadata": {
        "id": "MhYQLF1OXZMc",
        "colab_type": "code",
        "colab": {}
      },
      "source": [
        "path = '/content/drive/My Drive/Colab Notebooks/Data/'\n",
        "\n",
        "data_train = pd.read_csv(path + 'fashion-mnist_train.csv')\n",
        "data_test = pd.read_csv(path + 'fashion-mnist_test.csv')"
      ],
      "execution_count": 0,
      "outputs": []
    },
    {
      "cell_type": "code",
      "metadata": {
        "id": "geQ7sledX2xq",
        "colab_type": "code",
        "colab": {
          "base_uri": "https://localhost:8080/",
          "height": 34
        },
        "outputId": "3a9765bb-6c5d-4544-841a-da413b3c6b98"
      },
      "source": [
        "data_train.shape"
      ],
      "execution_count": 9,
      "outputs": [
        {
          "output_type": "execute_result",
          "data": {
            "text/plain": [
              "(60000, 785)"
            ]
          },
          "metadata": {
            "tags": []
          },
          "execution_count": 9
        }
      ]
    },
    {
      "cell_type": "code",
      "metadata": {
        "id": "MveSxEo4YEn5",
        "colab_type": "code",
        "colab": {
          "base_uri": "https://localhost:8080/",
          "height": 34
        },
        "outputId": "13891d09-60e0-4148-9c10-76890e11e851"
      },
      "source": [
        "data_test.shape"
      ],
      "execution_count": 10,
      "outputs": [
        {
          "output_type": "execute_result",
          "data": {
            "text/plain": [
              "(10000, 785)"
            ]
          },
          "metadata": {
            "tags": []
          },
          "execution_count": 10
        }
      ]
    },
    {
      "cell_type": "code",
      "metadata": {
        "id": "bknx41ymcsXa",
        "colab_type": "code",
        "colab": {}
      },
      "source": [
        "data_train_x = data_train.drop('label', axis=1)/256 \n",
        "x_test = data_test.drop('label', axis=1)/256\n",
        "\n",
        "data_train_y = data_train.label\n",
        "y_test = data_test.label"
      ],
      "execution_count": 0,
      "outputs": []
    },
    {
      "cell_type": "code",
      "metadata": {
        "id": "xvLaTOROdIRc",
        "colab_type": "code",
        "colab": {
          "base_uri": "https://localhost:8080/",
          "height": 282
        },
        "outputId": "799f777f-1367-47c8-c110-066f3c5eda6c"
      },
      "source": [
        "plt.imshow(data_train_x.iloc[0,:].values.reshape([28,28])) ; data_train_y.iloc[0]"
      ],
      "execution_count": 13,
      "outputs": [
        {
          "output_type": "execute_result",
          "data": {
            "text/plain": [
              "2"
            ]
          },
          "metadata": {
            "tags": []
          },
          "execution_count": 13
        },
        {
          "output_type": "display_data",
          "data": {
            "image/png": "[encoded data removed]",
            "text/plain": [
              "<Figure size 432x288 with 1 Axes>"
            ]
          },
          "metadata": {
            "tags": [],
            "needs_background": "light"
          }
        }
      ]
    },
    {
      "cell_type": "code",
      "metadata": {
        "id": "aoOg9Q2mdtRg",
        "colab_type": "code",
        "colab": {}
      },
      "source": [
        "np.random.seed(0)\n",
        "valid2_idx = np.random.choice(60000,10000,replace=False)\n",
        "valid1_idx =np.random.choice(list(set(range(60000)) - set(valid2_idx)),10000,replace=False)\n",
        "train_idx = list(set(range(60000)) - set(valid1_idx) - set(valid2_idx))\n",
        "\n",
        "x_train = data_train_x.iloc[train_idx,:]\n",
        "y_train = data_train_y.iloc[train_idx]"
      ],
      "execution_count": 0,
      "outputs": []
    },
    {
      "cell_type": "code",
      "metadata": {
        "id": "pmr2a4FCexFD",
        "colab_type": "code",
        "colab": {
          "base_uri": "https://localhost:8080/",
          "height": 158
        },
        "outputId": "1fc038e3-a960-4a98-ca5e-47db92a0655d"
      },
      "source": [
        "LR_model_1 = LogisticRegression().fit(x_train, y_train)"
      ],
      "execution_count": 33,
      "outputs": [
        {
          "output_type": "stream",
          "text": [
            "/usr/local/lib/python3.6/dist-packages/sklearn/linear_model/_logistic.py:940: ConvergenceWarning: lbfgs failed to converge (status=1):\n",
            "STOP: TOTAL NO. of ITERATIONS REACHED LIMIT.\n",
            "\n",
            "Increase the number of iterations (max_iter) or scale the data as shown in:\n",
            "    https://scikit-learn.org/stable/modules/preprocessing.html\n",
            "Please also refer to the documentation for alternative solver options:\n",
            "    https://scikit-learn.org/stable/modules/linear_model.html#logistic-regression\n",
            "  extra_warning_msg=_LOGISTIC_SOLVER_CONVERGENCE_MSG)\n"
          ],
          "name": "stderr"
        }
      ]
    },
    {
      "cell_type": "code",
      "metadata": {
        "id": "kZBrTQHKfXh9",
        "colab_type": "code",
        "colab": {
          "base_uri": "https://localhost:8080/",
          "height": 318
        },
        "outputId": "d2596319-3175-4d11-8209-e87ecfeb04b1"
      },
      "source": [
        "pred = LR_model_1.predict(x_test)\n",
        "result = metrics.classification_report(y_test, pred)\n",
        "print(result)"
      ],
      "execution_count": 34,
      "outputs": [
        {
          "output_type": "stream",
          "text": [
            "              precision    recall  f1-score   support\n",
            "\n",
            "           0       0.80      0.82      0.81      1000\n",
            "           1       0.97      0.97      0.97      1000\n",
            "           2       0.76      0.76      0.76      1000\n",
            "           3       0.87      0.88      0.88      1000\n",
            "           4       0.78      0.81      0.79      1000\n",
            "           5       0.93      0.92      0.92      1000\n",
            "           6       0.65      0.60      0.62      1000\n",
            "           7       0.90      0.91      0.91      1000\n",
            "           8       0.94      0.95      0.95      1000\n",
            "           9       0.93      0.94      0.94      1000\n",
            "\n",
            "    accuracy                           0.86     10000\n",
            "   macro avg       0.85      0.86      0.85     10000\n",
            "weighted avg       0.85      0.86      0.85     10000\n",
            "\n"
          ],
          "name": "stdout"
        }
      ]
    },
    {
      "cell_type": "code",
      "metadata": {
        "id": "yaaP0WJJiNzY",
        "colab_type": "code",
        "colab": {
          "base_uri": "https://localhost:8080/",
          "height": 158
        },
        "outputId": "bcd2a466-1e67-435d-ca85-266fdfa9214a"
      },
      "source": [
        "LR_model_2 = LogisticRegression(penalty='l2').fit(x_train, y_train)"
      ],
      "execution_count": 35,
      "outputs": [
        {
          "output_type": "stream",
          "text": [
            "/usr/local/lib/python3.6/dist-packages/sklearn/linear_model/_logistic.py:940: ConvergenceWarning: lbfgs failed to converge (status=1):\n",
            "STOP: TOTAL NO. of ITERATIONS REACHED LIMIT.\n",
            "\n",
            "Increase the number of iterations (max_iter) or scale the data as shown in:\n",
            "    https://scikit-learn.org/stable/modules/preprocessing.html\n",
            "Please also refer to the documentation for alternative solver options:\n",
            "    https://scikit-learn.org/stable/modules/linear_model.html#logistic-regression\n",
            "  extra_warning_msg=_LOGISTIC_SOLVER_CONVERGENCE_MSG)\n"
          ],
          "name": "stderr"
        }
      ]
    },
    {
      "cell_type": "code",
      "metadata": {
        "id": "c33ufhb6jbPX",
        "colab_type": "code",
        "colab": {
          "base_uri": "https://localhost:8080/",
          "height": 318
        },
        "outputId": "a3fa623d-bade-43d5-c8f2-5c308c2fe756"
      },
      "source": [
        "pred = LR_model_2.predict(x_test)\n",
        "result = metrics.classification_report(y_test, pred)\n",
        "print(result)"
      ],
      "execution_count": 36,
      "outputs": [
        {
          "output_type": "stream",
          "text": [
            "              precision    recall  f1-score   support\n",
            "\n",
            "           0       0.80      0.82      0.81      1000\n",
            "           1       0.97      0.97      0.97      1000\n",
            "           2       0.76      0.76      0.76      1000\n",
            "           3       0.87      0.88      0.88      1000\n",
            "           4       0.78      0.81      0.79      1000\n",
            "           5       0.93      0.92      0.92      1000\n",
            "           6       0.65      0.60      0.62      1000\n",
            "           7       0.90      0.91      0.91      1000\n",
            "           8       0.94      0.95      0.95      1000\n",
            "           9       0.93      0.94      0.94      1000\n",
            "\n",
            "    accuracy                           0.86     10000\n",
            "   macro avg       0.85      0.86      0.85     10000\n",
            "weighted avg       0.85      0.86      0.85     10000\n",
            "\n"
          ],
          "name": "stdout"
        }
      ]
    },
    {
      "cell_type": "code",
      "metadata": {
        "id": "wPd_xE-ulbqx",
        "colab_type": "code",
        "colab": {
          "base_uri": "https://localhost:8080/",
          "height": 52
        },
        "outputId": "2ac59054-d0c7-4840-9783-ec41a03a5940"
      },
      "source": [
        "SVM_model_1 = svm.LinearSVC().fit(x_train, y_train)"
      ],
      "execution_count": 44,
      "outputs": [
        {
          "output_type": "stream",
          "text": [
            "/usr/local/lib/python3.6/dist-packages/sklearn/svm/_base.py:947: ConvergenceWarning: Liblinear failed to converge, increase the number of iterations.\n",
            "  \"the number of iterations.\", ConvergenceWarning)\n"
          ],
          "name": "stderr"
        }
      ]
    },
    {
      "cell_type": "code",
      "metadata": {
        "id": "owQEc69DnAIx",
        "colab_type": "code",
        "colab": {
          "base_uri": "https://localhost:8080/",
          "height": 318
        },
        "outputId": "a9d6dbf5-838b-461f-f022-cdd912f2b2f4"
      },
      "source": [
        "pred = SVM_model_1.predict(x_test)\n",
        "result = metrics.classification_report(y_test, pred)\n",
        "print(result)"
      ],
      "execution_count": 45,
      "outputs": [
        {
          "output_type": "stream",
          "text": [
            "              precision    recall  f1-score   support\n",
            "\n",
            "           0       0.77      0.82      0.79      1000\n",
            "           1       0.96      0.97      0.97      1000\n",
            "           2       0.79      0.73      0.76      1000\n",
            "           3       0.84      0.87      0.86      1000\n",
            "           4       0.77      0.82      0.79      1000\n",
            "           5       0.93      0.90      0.92      1000\n",
            "           6       0.64      0.59      0.61      1000\n",
            "           7       0.90      0.91      0.91      1000\n",
            "           8       0.94      0.93      0.93      1000\n",
            "           9       0.93      0.94      0.94      1000\n",
            "\n",
            "    accuracy                           0.85     10000\n",
            "   macro avg       0.85      0.85      0.85     10000\n",
            "weighted avg       0.85      0.85      0.85     10000\n",
            "\n"
          ],
          "name": "stdout"
        }
      ]
    },
    {
      "cell_type": "code",
      "metadata": {
        "id": "qUegy3sinJ3x",
        "colab_type": "code",
        "colab": {}
      },
      "source": [
        "SVM_model_2 = svm.SVC().fit(x_train, y_train)"
      ],
      "execution_count": 0,
      "outputs": []
    },
    {
      "cell_type": "code",
      "metadata": {
        "id": "xxe-02AQolV9",
        "colab_type": "code",
        "colab": {
          "base_uri": "https://localhost:8080/",
          "height": 318
        },
        "outputId": "49671f4c-3f69-4978-a775-a81c58c1b178"
      },
      "source": [
        "pred = SVM_model_2.predict(x_test)\n",
        "result = metrics.classification_report(y_test, pred)\n",
        "print(result)"
      ],
      "execution_count": 48,
      "outputs": [
        {
          "output_type": "stream",
          "text": [
            "              precision    recall  f1-score   support\n",
            "\n",
            "           0       0.80      0.86      0.83      1000\n",
            "           1       0.99      0.97      0.98      1000\n",
            "           2       0.83      0.82      0.82      1000\n",
            "           3       0.88      0.92      0.90      1000\n",
            "           4       0.83      0.86      0.85      1000\n",
            "           5       0.96      0.93      0.94      1000\n",
            "           6       0.74      0.64      0.69      1000\n",
            "           7       0.91      0.93      0.92      1000\n",
            "           8       0.96      0.97      0.96      1000\n",
            "           9       0.94      0.95      0.95      1000\n",
            "\n",
            "    accuracy                           0.88     10000\n",
            "   macro avg       0.88      0.88      0.88     10000\n",
            "weighted avg       0.88      0.88      0.88     10000\n",
            "\n"
          ],
          "name": "stdout"
        }
      ]
    }
  ]
}